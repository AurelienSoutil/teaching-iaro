{
 "cells": [
  {
   "cell_type": "markdown",
   "metadata": {},
   "source": [
    "# Sujet de TME\n",
    "\n",
    "## Environnement \n",
    "\n",
    "Vous utiliserez le module PySpriteWorld. \n",
    "\n",
    "\n",
    "Note: on fait ici l'hypothèse que toutes les informations (positions des agents et des trésors sont disponibles pour tous les agents, i.e. on ne se pose pas de problème de communication)\n",
    "\n",
    "## Plus courts chemins\n",
    "\n",
    "Sur une carte labyrinthique sont disposés des trésors (des fioles précieuses). \n",
    "\n",
    "### Un agent\n",
    "\n",
    "On s'intéresse tout d'abord à une situation où un seul agent doit trouver un plus court chemin de sa position à un seul trésor. Pour cela, vous implémenterez l'algorithme $A^*$. \n",
    "\n",
    "### Plusieurs agents\n",
    "\n",
    "On considère à présent la situation où $n$ agents et $n$ agents sont sur la carte. \n",
    "Chaque agent doit alors calculer l'ensemble des plus courts chemins pour aller, depuis sa position, à tous les objectifs présents sur la carte.\n",
    "\n",
    "En supposant que les agents commencent leur déplacement au même moment, et qu'ils se déplacent à la même vitesse, proposez une méthode permettant :\n",
    "* à chaque agent d'atteindre le trésor le plus proche, sachant que les autres agents cherchent également à atteindre le trésor le plus proche. Par exemple, si un agent vise l'objectif $o_1$, mais qu'un autre agent est plus proche que lui de $o_1$, il est peut être préférable de viser un autre objectif. \n",
    "* (optionnel): de minimiser la somme globale des longeurs des chemins parcourus par les agents. \n",
    "\n",
    "\n",
    "\n",
    "## Rencontres entre les agents\n",
    "\n",
    "On suppose maintenant que les agents peuvent se rencontrer lors de leur parcours. \n",
    "La rencontre peut se produire si les deux agents portent des trésors. Notons $t_1$ la quantité de trésor de l'agent 1, et $t_2$ la quantité de trésor de l'agent 2. \n",
    "A chaque rencontre, les deux agents jouent le jeu suivant. Ils ont deux actions possibles à jouer: \n",
    "* voler: \n",
    "* discuter: \n",
    "\n",
    "Si les deux agents tentent de se voler l'un l'autre, ils cassent des fiolent dans la bataille: chaque agent se retoruve avec $0.5  t_1$ et $0.5 t_2$\n",
    "\n",
    "\n",
    "\n",
    "Les stratégies des agents sont donc définissables à deux niveaux:\n",
    "* stratégie d'interaction\n",
    "* stratégie de parcours\n",
    "\n",
    "## Jeu et évaluation globale\n",
    "\n",
    "\n",
    "\n"
   ]
  },
  {
   "cell_type": "code",
   "execution_count": null,
   "metadata": {
    "collapsed": true
   },
   "outputs": [],
   "source": []
  }
 ],
 "metadata": {
  "kernelspec": {
   "display_name": "Python 3",
   "language": "python",
   "name": "python3"
  },
  "language_info": {
   "codemirror_mode": {
    "name": "ipython",
    "version": 3
   },
   "file_extension": ".py",
   "mimetype": "text/x-python",
   "name": "python",
   "nbconvert_exporter": "python",
   "pygments_lexer": "ipython3",
   "version": "3.5.1"
  }
 },
 "nbformat": 4,
 "nbformat_minor": 0
}
