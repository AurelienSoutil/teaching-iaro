{
 "cells": [
  {
   "cell_type": "code",
   "execution_count": 49,
   "metadata": {
    "collapsed": false
   },
   "outputs": [
    {
     "name": "stdout",
     "output_type": "stream",
     "text": [
      "Populating the interactive namespace from numpy and matplotlib\n"
     ]
    }
   ],
   "source": [
    "%pylab inline\n",
    "import numpy as np"
   ]
  },
  {
   "cell_type": "markdown",
   "metadata": {
    "slideshow": {
     "slide_type": "slide"
    }
   },
   "source": [
    "## Méthodes et Outils de l'I.A. et de la R.O.\n",
    "\n",
    " Pendant les 4 prochaines séances, nous allons voir: \n",
    " * algorithmes de recherches \n",
    " * algorithmes pour les jeux\n",
    " * dynamiques multi-agents"
   ]
  },
  {
   "cell_type": "markdown",
   "metadata": {
    "slideshow": {
     "slide_type": "slide"
    }
   },
   "source": [
    "### Références Bibliographiques\n",
    "\n",
    "Dans ce cours je suis largement des chapitres de référence suivants: \n",
    "* Recherche heuristique dans les graphes d'états, Henry Farreny, In Panorama de l'IA, vol. 1\n",
    "* Solving problems by Searching (Chapter 3) et Informed (Heuristic) Search Strategies (Chapter 4), Stuart Russel and Peter Norvig. In Artificial Intelligence, A Modern Approach. \n"
   ]
  },
  {
   "cell_type": "markdown",
   "metadata": {
    "slideshow": {
     "slide_type": "slide"
    }
   },
   "source": [
    "## Graphes d'états\n",
    "\n",
    "On considère de manière générale le problème consistant à trouver un chemin de coût minimal pour aller d'un **état initial** à un **état but** dans un **graphe d'états**. \n",
    "\n",
    "* Passer d'un état à un autre à un **coût**. \n",
    "* Une solution est **optimale** si elle permet de passer de l'état initial à l'état but avec un coût minimal. \n",
    "* Un paramètre important permettant d'apprécier la difficulté d'un problème est le **facteur de branchement** du graphe d'état (le nombre de successeurs possibles à chaque état). \n",
    "\n",
    "\n",
    "\n"
   ]
  },
  {
   "cell_type": "markdown",
   "metadata": {
    "slideshow": {
     "slide_type": "subslide"
    }
   },
   "source": [
    "La taille des problèmes rend parfois impossible la création exhaustive du graphe d'état en mémoire. \n",
    "\n",
    "* par exemple, le problème du taquin de taille $n\\times n$ donne lieu à $(n^2)!$ états possible. \n"
   ]
  },
  {
   "cell_type": "code",
   "execution_count": 50,
   "metadata": {
    "collapsed": false,
    "slideshow": {
     "slide_type": "subslide"
    }
   },
   "outputs": [
    {
     "name": "stdout",
     "output_type": "stream",
     "text": [
      "[[ 4  0 14  5]\n",
      " [ 1 12  3  6]\n",
      " [ 2  8 10 11]\n",
      " [15  9 13  7]]\n",
      "[[ 4  7  1  8]\n",
      " [ 0 14  9 13]\n",
      " [11  6 12 10]\n",
      " [ 2  3 15  5]]\n"
     ]
    }
   ],
   "source": [
    "tiles1 = np.random.permutation(range(0,16)) # 0 is the empty slot\n",
    "tiles2 = np.random.permutation(range(0,16)) # 0 is the empty slot\n",
    "puzzle1 = np.array(tiles1)\n",
    "puzzle2 = np.array(tiles2)\n",
    "puzzle1 = np.reshape(puzzle1,(4,4))\n",
    "puzzle2 = np.reshape(puzzle2,(4,4))\n",
    "print(puzzle1)\n",
    "print(puzzle2)"
   ]
  },
  {
   "cell_type": "markdown",
   "metadata": {
    "slideshow": {
     "slide_type": "slide"
    }
   },
   "source": [
    "### Critères de comparaison\n",
    "\n",
    "Suivant (Russel & Norvig, 2003), Ces différentes approches peuvent se comparer en terme de :\n",
    "* **complétude**: l'algorithme trouve-t-il une solution (si une existe)? \n",
    "* leur **qualité**: la solution trouvée est-elle optimale? \n",
    "* **complexité de calcul**: le temps de calcul nécessaire pour obtenir la solution. \n",
    "* **complexité en espace**: l'espace de stockage nécessaire pendant le calcul. "
   ]
  },
  {
   "cell_type": "markdown",
   "metadata": {
    "slideshow": {
     "slide_type": "slide"
    }
   },
   "source": [
    "## Rappels: Recherche non informée\n",
    "\n",
    "Il existe plusieurs types possibles d'exploration, qui se distinguent selon la stratégie d'expansion des noeuds. \n",
    "\n",
    "* depth-first (profondeur d'abord): on étend le noeud le plus profond de le frontière. Noeuds à stocker: $O(bd)$\n",
    "* breadth-first (largeur d'abord): tous les successeurs d'un noued sont étendus. Noeuds à stocker: $O(b^{d+1})$\n",
    "* best-first (meilleur d'abord): on étend le noeud avec le coût de chemin le plus faible. "
   ]
  },
  {
   "cell_type": "markdown",
   "metadata": {
    "slideshow": {
     "slide_type": "slide"
    }
   },
   "source": [
    "## Recherche heuristique informée\n",
    "\n",
    "Idée: utiliser des connaissances du domaine pour guider la recherche. \n",
    "\n",
    "### Algortihme $A^*$\n",
    "\n",
    "L'algorithme $A^*$ est un algorithme best-first, qui étend en priorité le noeud de la frontière avec le meilleur score $f(n)$\n",
    "\n",
    "$$ f(n) = g(n) + h(n) $$ où:\n",
    "* $g(n)$ est le coût du chemin jusqu'au noeud $n$\n",
    "* $h(n)$ est le coût (estimé) de $n$ jusqu'à un état but. "
   ]
  },
  {
   "cell_type": "markdown",
   "metadata": {
    "slideshow": {
     "slide_type": "subslide"
    }
   },
   "source": [
    "### Propriétés des heuristiques\n",
    "\n",
    "\n",
    "#### Admissibilité \n",
    "* une heuristique est **admissible** lorsqu'elle ne surestime jamais la distance à l'état but (on parle aussi d'heuristique minorante)\n",
    "\n",
    "Sous l'hypothèse d'admissibiilité de l'heuristique, $A^*$ retourne une solution optimale. \n",
    "\n",
    "\n"
   ]
  },
  {
   "cell_type": "markdown",
   "metadata": {
    "slideshow": {
     "slide_type": "subslide"
    }
   },
   "source": [
    "#### Consistence\n",
    "\n",
    "* une heuristique est consistante ssi pour tout état $m$ et tout fils de $n$ de $m$, on a:\n",
    "    $$ h(m)≤cost(m,n)+h(n)$$\n",
    "Autrement dit, les valeurs de $f(n)$ sont non-décroissantes sur les chemins depuis la racine.\n"
   ]
  },
  {
   "cell_type": "markdown",
   "metadata": {
    "slideshow": {
     "slide_type": "slide"
    }
   },
   "source": [
    "### Implémentation\n",
    "\n",
    "Gestion de la frontière grâce à un tas (permettant l'insertion rapide et garantissant que l'élement racine est toujours celui de meilleure priorité)"
   ]
  },
  {
   "cell_type": "code",
   "execution_count": 54,
   "metadata": {
    "collapsed": false,
    "slideshow": {
     "slide_type": "subslide"
    }
   },
   "outputs": [
    {
     "name": "stdout",
     "output_type": "stream",
     "text": [
      "[2, 5, 3]\n",
      "1\n"
     ]
    }
   ],
   "source": [
    "import heapq\n",
    "\n",
    "q=[]\n",
    "heapq.heappush(q,2)\n",
    "heapq.heappush(q,5)\n",
    "heapq.heappush(q,3)\n",
    "heapq.heappush(q,1)\n",
    "h = heapq.heappop(q)\n",
    "print (q)\n",
    "print(h)\n"
   ]
  },
  {
   "cell_type": "markdown",
   "metadata": {
    "slideshow": {
     "slide_type": "slide"
    }
   },
   "source": [
    "### Problème de ré-expansion de noeuds\n",
    "\n",
    "Important: si l'heuristique utilisée est consistante, alors un noeud un sommet développé par $A^*$ ne peut l'être qu'une fois. Autrement dit, les noeuds qui passent en réserve ne repassent jamais dans la frontière. \n",
    "\n",
    "Lorque l'heuristique n'est pas consistante, ce n'est pas le cas et on peut avoir à ré-étendre des noeuds... \n"
   ]
  },
  {
   "cell_type": "code",
   "execution_count": null,
   "metadata": {
    "collapsed": true,
    "slideshow": {
     "slide_type": "slide"
    }
   },
   "outputs": [],
   "source": [
    "def astar(p):\n",
    "    \"\"\" application de l'algorithme a-star sur un probleme donné\n",
    "        \"\"\"\n",
    "    nodeInit = Noeud(p.init,0,None)\n",
    "    frontiere = [(nodeInit.g+p.h_value(nodeInit.etat,p.but),nodeInit)] \n",
    "    reserve = {}        \n",
    "    bestNoeud = nodeInit\n",
    "    \n",
    "    while frontiere != [] and not p.estBut(bestNoeud.etat):              \n",
    "        (min_f,bestNoeud) = heapq.heappop(frontiere)         \n",
    "    # Suppose qu'un noeud en réserve n'est jamais ré-étendu \n",
    "    # Hypothèse de consistence de l'heuristique\n",
    "    # ne gère pas les duplicatas dans la frontière\n",
    "    \n",
    "        if p.immatriculation(bestNoeud.etat) not in reserve:            \n",
    "            reserve[p.immatriculation(bestNoeud.etat)] = bestNoeud.g #maj de reserve\n",
    "            nouveauxNoeuds = bestNoeud.expand(p)            \n",
    "            for n in nouveauxNoeuds:\n",
    "                f = n.g+p.h_value(n.etat,p.but)\n",
    "                heapq.heappush(frontiere, (f,n))              \n",
    "    # Afficher le résultat                    \n",
    "    return"
   ]
  },
  {
   "cell_type": "markdown",
   "metadata": {
    "slideshow": {
     "slide_type": "slide"
    }
   },
   "source": [
    "## Trouver les bonnes heuristiques\n",
    "\n",
    "Notons tout d'abord que l'heuristique nulle est bien une heuristique admissible. Que se passe-t-il dans ce cas? \n",
    "\n",
    "Des heuristiques classiques pour les problèmes de navigation/recherche de chemin (path-finding) sont: \n",
    "* distances de Manhattan\n",
    "* distance euclidienne \n",
    "\n",
    "Quelles heuristiques pour le taquin? "
   ]
  },
  {
   "cell_type": "markdown",
   "metadata": {
    "collapsed": false,
    "slideshow": {
     "slide_type": "subslide"
    }
   },
   "source": [
    "### Pattern Databases\n",
    "\n",
    "Idée: on s'intéresse au coût exact de sous-problèmes de notre problème général, qui consistuent des bornes inf du coût du problème général. \n",
    "\n",
    "On créé donc une base de donnée avec le coût exact correspondant à toutes les configurations possibles du sous-problème. \n",
    "Pour cela, on part du but et on calcule le coût de chaque configuration rencontrée. \n",
    "\n",
    "\n",
    "\n"
   ]
  },
  {
   "cell_type": "markdown",
   "metadata": {
    "slideshow": {
     "slide_type": "notes"
    }
   },
   "source": [
    "## Recherche dans les graphes d'états\n",
    "Notions essentielles: A*, Iterative deepening\n",
    "Ici on suit essentiellement H. Farreny, Chapitre 1 du panorama. \n",
    "\n",
    "* Cours: Recherche dans un graphe d'état (exemple du taquin?), \n",
    " recherche non informée: Bread-first search, \n",
    " recherche informée: A*\n",
    "* TD: \n",
    "* TME:\n",
    "\n",
    "## Recherche dans les graphes\n",
    "MCTS\n",
    "\n",
    "## Interaction stratégique: Jeux \n",
    "Prisoner Dilemma\n",
    "minmax\n",
    "vers le IPD localisé\n",
    "\n",
    "\n",
    "## Dynamique de systèmes multiagents\n",
    "\n",
    "Cours: \n",
    "* best-response dynamics\n",
    "* fictitious play\n",
    "* replicator dynamics? \n",
    "* (coalition?)\n",
    "\n",
    "TD: reprendre exercice L3-IA\n",
    "\n",
    "TME: best-response dynamics avec des agents qui cherchent des plus courts chemins dans un graphe (cf. Rovatsos)\n",
    "\n"
   ]
  },
  {
   "cell_type": "code",
   "execution_count": 9,
   "metadata": {
    "collapsed": true,
    "slideshow": {
     "slide_type": "notes"
    }
   },
   "outputs": [],
   "source": [
    "import pygame"
   ]
  }
 ],
 "metadata": {
  "kernelspec": {
   "display_name": "Python 3",
   "language": "python",
   "name": "python3"
  },
  "language_info": {
   "codemirror_mode": {
    "name": "ipython",
    "version": 3
   },
   "file_extension": ".py",
   "mimetype": "text/x-python",
   "name": "python",
   "nbconvert_exporter": "python",
   "pygments_lexer": "ipython3",
   "version": "3.5.1"
  }
 },
 "nbformat": 4,
 "nbformat_minor": 0
}
